{
  "nbformat": 4,
  "nbformat_minor": 0,
  "metadata": {
    "colab": {
      "provenance": []
    },
    "kernelspec": {
      "name": "python3",
      "display_name": "Python 3"
    },
    "language_info": {
      "name": "python"
    }
  },
  "cells": [
    {
      "cell_type": "code",
      "execution_count": 1,
      "metadata": {
        "colab": {
          "base_uri": "https://localhost:8080/"
        },
        "id": "AIKw_KG8uDkj",
        "outputId": "937d409d-08da-48f6-d960-cf8acf25ae56"
      },
      "outputs": [
        {
          "output_type": "stream",
          "name": "stdout",
          "text": [
            "Requirement already satisfied: prophet in /usr/local/lib/python3.11/dist-packages (1.1.6)\n",
            "Requirement already satisfied: cmdstanpy>=1.0.4 in /usr/local/lib/python3.11/dist-packages (from prophet) (1.2.5)\n",
            "Requirement already satisfied: numpy>=1.15.4 in /usr/local/lib/python3.11/dist-packages (from prophet) (2.0.2)\n",
            "Requirement already satisfied: matplotlib>=2.0.0 in /usr/local/lib/python3.11/dist-packages (from prophet) (3.10.0)\n",
            "Requirement already satisfied: pandas>=1.0.4 in /usr/local/lib/python3.11/dist-packages (from prophet) (2.2.2)\n",
            "Requirement already satisfied: holidays<1,>=0.25 in /usr/local/lib/python3.11/dist-packages (from prophet) (0.70)\n",
            "Requirement already satisfied: tqdm>=4.36.1 in /usr/local/lib/python3.11/dist-packages (from prophet) (4.67.1)\n",
            "Requirement already satisfied: importlib-resources in /usr/local/lib/python3.11/dist-packages (from prophet) (6.5.2)\n",
            "Requirement already satisfied: stanio<2.0.0,>=0.4.0 in /usr/local/lib/python3.11/dist-packages (from cmdstanpy>=1.0.4->prophet) (0.5.1)\n",
            "Requirement already satisfied: python-dateutil in /usr/local/lib/python3.11/dist-packages (from holidays<1,>=0.25->prophet) (2.8.2)\n",
            "Requirement already satisfied: contourpy>=1.0.1 in /usr/local/lib/python3.11/dist-packages (from matplotlib>=2.0.0->prophet) (1.3.2)\n",
            "Requirement already satisfied: cycler>=0.10 in /usr/local/lib/python3.11/dist-packages (from matplotlib>=2.0.0->prophet) (0.12.1)\n",
            "Requirement already satisfied: fonttools>=4.22.0 in /usr/local/lib/python3.11/dist-packages (from matplotlib>=2.0.0->prophet) (4.57.0)\n",
            "Requirement already satisfied: kiwisolver>=1.3.1 in /usr/local/lib/python3.11/dist-packages (from matplotlib>=2.0.0->prophet) (1.4.8)\n",
            "Requirement already satisfied: packaging>=20.0 in /usr/local/lib/python3.11/dist-packages (from matplotlib>=2.0.0->prophet) (24.2)\n",
            "Requirement already satisfied: pillow>=8 in /usr/local/lib/python3.11/dist-packages (from matplotlib>=2.0.0->prophet) (11.1.0)\n",
            "Requirement already satisfied: pyparsing>=2.3.1 in /usr/local/lib/python3.11/dist-packages (from matplotlib>=2.0.0->prophet) (3.2.3)\n",
            "Requirement already satisfied: pytz>=2020.1 in /usr/local/lib/python3.11/dist-packages (from pandas>=1.0.4->prophet) (2025.2)\n",
            "Requirement already satisfied: tzdata>=2022.7 in /usr/local/lib/python3.11/dist-packages (from pandas>=1.0.4->prophet) (2025.2)\n",
            "Requirement already satisfied: six>=1.5 in /usr/local/lib/python3.11/dist-packages (from python-dateutil->holidays<1,>=0.25->prophet) (1.17.0)\n"
          ]
        }
      ],
      "source": [
        "!pip install prophet"
      ]
    },
    {
      "cell_type": "code",
      "source": [
        "# Import necessary libraries\n",
        "import pandas as pd\n",
        "import numpy as np\n",
        "import matplotlib.pyplot as plt\n",
        "import prophet as fbp\n",
        "from sklearn.metrics import mean_squared_error, mean_absolute_error\n",
        "# Suppress warnings\n",
        "import warnings\n",
        "warnings.filterwarnings(\"ignore\")\n",
        "\n",
        "# Use fivethirtyeight plot style\n",
        "#plt.style.use('fivethirtyeight')"
      ],
      "metadata": {
        "id": "Gmvn0xhowX-T"
      },
      "execution_count": null,
      "outputs": []
    },
    {
      "cell_type": "code",
      "source": [
        "# **Data Loading and Preprocessing**\n",
        "# We will be using amazon share price data which can be downloaded from YAHOO finance website.\n",
        "file_path = '/content/Share-Price-Forecasting-Using-Facebook-Prophet---Dataset(1).csv'\n",
        "df = pd.read_csv(file_path)\n",
        "# Display first few rows of the data\n",
        "df.head()"
      ],
      "metadata": {
        "id": "sTZpk1J1xBy8"
      },
      "execution_count": null,
      "outputs": []
    },
    {
      "cell_type": "code",
      "source": [
        "# Check for missing values\n",
        "print(df.isnull().sum())"
      ],
      "metadata": {
        "id": "q-JyzxCyxDdq"
      },
      "execution_count": null,
      "outputs": []
    },
    {
      "cell_type": "code",
      "source": [
        "# **Data Visualization**\n",
        "import matplotlib.dates as mdates\n",
        "plt.plot(df['Date'], df['Adj Close'], label=\"Full Data\")\n",
        "#plt.xlabel('Date')\n",
        "plt.xticks(rotation=45)\n",
        "\n",
        "# Improve date formatting\n",
        "plt.gca().xaxis.set_major_formatter(mdates.DateFormatter('%Y-%m-%d'))  # Format as YYYY-MM-DD\n",
        "plt.gca().xaxis.set_major_locator(mdates.MonthLocator(interval=6))  # Show every 6 months\n"
      ],
      "metadata": {
        "id": "wTOxpaF_xIkN"
      },
      "execution_count": null,
      "outputs": []
    },
    {
      "cell_type": "code",
      "source": [
        "# Prepare data for Prophet\n",
        "\n",
        "df[['ds', 'y']] = df[['Date', 'Adj Close']]# add two columnsin dataframe having values as Date and Adj Close\n",
        "\n",
        "df1 = df[['ds', 'y']]# Subset two columns from data frame\n",
        "\n",
        "df1.head()"
      ],
      "metadata": {
        "id": "4LsY8RjxxOlC"
      },
      "execution_count": null,
      "outputs": []
    },
    {
      "cell_type": "code",
      "source": [
        "#import matplotlib.pyplot as plt\n",
        "\n",
        "#plt.figure(figsize=(12,5))\n",
        "plt.plot(df['ds'], df['y'], label=\"Full Data\")\n",
        "plt.axvline(x=\"2019-07-21\", color='red', linestyle='--', label=\"Split Date\")\n",
        "plt.legend()\n",
        "plt.show()"
      ],
      "metadata": {
        "id": "jfw8LFqzxXYp"
      },
      "execution_count": null,
      "outputs": []
    },
    {
      "cell_type": "code",
      "source": [
        "# **Data Splitting**\n",
        "# Split data into training and testing sets\n",
        "split_date = \"2019-07-21\"\n",
        "\n",
        "df_train = df.loc[df.ds <= split_date].copy()\n",
        "df_test = df.loc[df.ds > split_date].copy()\n"
      ],
      "metadata": {
        "id": "QAVWGEbhxeKJ"
      },
      "execution_count": null,
      "outputs": []
    },
    {
      "cell_type": "code",
      "source": [
        "split_date = \"2019-07-21\"\n",
        "\n",
        "df1_train = df1.loc[df1.ds <= split_date].copy()\n",
        "df1_test = df1.loc[df1.ds > split_date].copy()\n"
      ],
      "metadata": {
        "id": "h9rxlKPgxzZt"
      },
      "execution_count": null,
      "outputs": []
    },
    {
      "cell_type": "code",
      "source": [
        "# **Model Training and Forecasting (Univariate)**\n",
        "# Instantiate prophet\n",
        "model1 = fbp.Prophet(changepoint_prior_scale=0.05, seasonality_prior_scale=10)\n",
        "# fit the training data\n",
        "model1.fit(df1_train)\n"
      ],
      "metadata": {
        "id": "kOqqOUeKx2pk"
      },
      "execution_count": null,
      "outputs": []
    },
    {
      "cell_type": "code",
      "source": [
        "# Generate forecasts\n",
        "forecast1 = model1.predict(df1_test)\n",
        "forecast1.tail()\n"
      ],
      "metadata": {
        "id": "HhPsFEMQx97I"
      },
      "execution_count": null,
      "outputs": []
    },
    {
      "cell_type": "code",
      "source": [
        "# Visualize forecast\n",
        "model1.plot(forecast1)"
      ],
      "metadata": {
        "id": "gKcS83T-yIWA"
      },
      "execution_count": null,
      "outputs": []
    },
    {
      "cell_type": "code",
      "source": [
        "# plot graphs of different components:\n",
        "model1.plot_components(forecast1)"
      ],
      "metadata": {
        "id": "68q4vUQ4yPP1"
      },
      "execution_count": null,
      "outputs": []
    },
    {
      "cell_type": "code",
      "source": [
        "# **Model Evaluation (Univariate)**\n",
        "from prophet.diagnostics import cross_validation, performance_metrics\n",
        "\n",
        "# Perform time-series cross-validation\n",
        "df_cv = cross_validation(model1, horizon='30 days', period='90 days', initial='365 days')\n",
        "\n",
        "# Evaluate performance\n",
        "df_p = performance_metrics(df_cv)\n",
        "print(df_p[['horizon', 'rmse', 'mape']])\n"
      ],
      "metadata": {
        "id": "44gYtMNFyaho"
      },
      "execution_count": null,
      "outputs": []
    },
    {
      "cell_type": "code",
      "source": [
        "# Calculate and print error metrics\n",
        "print(\"Mean Squared Error (MSE):\", mean_squared_error(y_true = df1_test[\"y\"], y_pred = forecast1['yhat']))\n",
        "print(\"Mean Absolute Error (MAE):\", mean_absolute_error(y_true = df1_test[\"y\"], y_pred = forecast1['yhat']))\n"
      ],
      "metadata": {
        "id": "NrzUUaOIykaL"
      },
      "execution_count": null,
      "outputs": []
    },
    {
      "cell_type": "code",
      "source": [
        "# Calculate and print Mean Absolute Percentage Error (MAPE)\n",
        "def mean_abs_perc_err(y_true, y_pred):\n",
        "\treturn np.mean(np.abs((y_true - y_pred) / y_true)) * 100\n",
        "\n",
        "print(\"Mean Absolute % Error (MAPE): \", mean_abs_perc_err(y_true = np.asarray(df1_test[\"y\"]), y_pred = np.asarray(forecast1['yhat'])))\n"
      ],
      "metadata": {
        "id": "eGFzylrhytaB"
      },
      "execution_count": null,
      "outputs": []
    },
    {
      "cell_type": "code",
      "source": [
        "# **Model Training and Forecasting (Multivariate)**\n",
        "# Instantiate prophet using additional regressors\n",
        "model = fbp.Prophet(changepoint_prior_scale=0.05, seasonality_prior_scale=10)\n",
        "# fit the training data using additional regressors\n",
        "model.add_regressor('Volume')\n",
        "model.add_regressor('High')\n",
        "model.add_regressor('Low')\n",
        "# fit the training data\n",
        "model.fit(df_train)"
      ],
      "metadata": {
        "id": "WiTqpMNoyu4v"
      },
      "execution_count": null,
      "outputs": []
    },
    {
      "cell_type": "code",
      "source": [
        "# Generate forecasts\n",
        "forecast = model.predict(df_test)\n",
        "forecast.tail()"
      ],
      "metadata": {
        "id": "V_fhL2s6y0EO"
      },
      "execution_count": null,
      "outputs": []
    },
    {
      "cell_type": "code",
      "source": [
        "# Visualize forecast\n",
        "model.plot(forecast)\n"
      ],
      "metadata": {
        "id": "8xDha9ydy3_F"
      },
      "execution_count": null,
      "outputs": []
    },
    {
      "cell_type": "code",
      "source": [
        "# plot graphs of different components:\n",
        "model.plot_components(forecast)\n"
      ],
      "metadata": {
        "id": "f3GX_Q_jy87d"
      },
      "execution_count": null,
      "outputs": []
    },
    {
      "cell_type": "code",
      "source": [
        "# **Model Evaluation (Multivariate)**\n",
        "from prophet.diagnostics import cross_validation, performance_metrics\n",
        "\n",
        "# Perform time-series cross-validation\n",
        "df_cv = cross_validation(model1, horizon='30 days', period='90 days', initial='365 days')\n",
        "\n",
        "# Evaluate performance\n",
        "df_p = performance_metrics(df_cv)\n",
        "print(df_p[['horizon', 'rmse', 'mape']])\n",
        "\n"
      ],
      "metadata": {
        "id": "NSWkjOHTzDXX"
      },
      "execution_count": null,
      "outputs": []
    },
    {
      "cell_type": "code",
      "source": [
        "# Calculate and print error metrics\n",
        "print(\"Mean Squared Error (MSE):\", mean_squared_error(y_true = df_test[\"y\"], y_pred = forecast['yhat']))\n",
        "print(\"Mean Absolute Error (MAE):\", mean_absolute_error(y_true = df_test[\"y\"], y_pred = forecast['yhat']))\n"
      ],
      "metadata": {
        "id": "bpTEpXDNzO6W"
      },
      "execution_count": null,
      "outputs": []
    },
    {
      "cell_type": "code",
      "source": [
        "# Calculate and print Mean Absolute Percentage Error (MAPE)\n",
        "def mean_abs_perc_err(y_true, y_pred):\n",
        "\treturn np.mean(np.abs((y_true - y_pred) / y_true)) * 100\n",
        "\n",
        "print(\"Mean Absolute % Error (MAPE): \", mean_abs_perc_err(y_true = np.asarray(df_test[\"y\"]), y_pred = np.asarray(forecast['yhat'])))"
      ],
      "metadata": {
        "id": "zW5vpH8jzVut"
      },
      "execution_count": null,
      "outputs": []
    }
  ]
}